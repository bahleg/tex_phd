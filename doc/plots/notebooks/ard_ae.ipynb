{
 "cells": [
  {
   "cell_type": "code",
   "execution_count": 1,
   "metadata": {},
   "outputs": [],
   "source": [
    "import sys\n",
    "import backports"
   ]
  },
  {
   "cell_type": "code",
   "execution_count": 52,
   "metadata": {},
   "outputs": [
    {
     "data": {
      "image/png": "[encoded data removed]",
      "text/plain": [
       "<Figure size 204.094x198.425 with 1 Axes>"
      ]
     },
     "metadata": {},
     "output_type": "display_data"
    }
   ],
   "source": [
    "from matplotlib import rc\n",
    "%matplotlib inline\n",
    "import daft\n",
    "\n",
    "rc(\"font\", family=\"serif\", size=12)\n",
    "rc(\"text\", usetex=True)\n",
    "\n",
    "\n",
    "\n",
    "# Colors.\n",
    "p_color = {\"ec\": \"#46a546\"}\n",
    "s_color = {\"ec\": \"#f89406\"}\n",
    "\n",
    "pgm = daft.PGM([3.6, 3.5], origin=[0.7, 0])\n",
    "\n",
    "v_z = daft.Node(\"Z\", r\"$\\mathbf{Z}$\", 2, 3, plot_params=s_color)\n",
    "v_w = daft.Node(\"W\", r\"$\\mathbf{W}$\", 3, 2, plot_params=s_color)\n",
    "v_theta = daft.Node(\"theta\", r\"$q(\\mathbf{Z}, \\mathbf{W})$\", 2, 2, scale=2,  plot_params=s_color)\n",
    "v_x = daft.Node(\"XY\", r\"$\\mathbf{X}$\", 2, 1,  plot_params=s_color)\n",
    "\n",
    "pgm.add_node(v_z)\n",
    "pgm.add_node(v_w)\n",
    "pgm.add_node(v_theta)\n",
    "pgm.add_node(v_x)\n",
    "\n",
    "pgm.add_edge(\"Z\", \"theta\")\n",
    "pgm.add_edge(\"W\", \"theta\")\n",
    "pgm.add_edge(\"theta\", \"XY\")\n",
    "\n",
    "\n",
    "\n",
    "\"\"\"\n",
    "pgm.add_node(v_gamma)\n",
    "pgm.add_node(v_w)\n",
    "pgm.add_node(v_a)\n",
    "pgm.add_node(v_y)\n",
    "pgm.add_node(v_x)\n",
    "\n",
    "pgm.add_edge(\"Gamma\", \"W\")\n",
    "pgm.add_edge(\"A\", \"W\")\n",
    "\n",
    "pgm.add_edge(\"W\", \"Y\")\n",
    "pgm.add_edge(\"X\", \"Y\")\n",
    "pgm.add_plate(daft.Plate([2.5, 0.5, 1, 2],    shift=-0.1))\n",
    "# Render and save.\n",
    "\"\"\"\n",
    "pgm.add_plate(daft.Plate([1.25, 0.75, 2.2, 2.6],    shift=-0.1))\n",
    "pgm.render()\n",
    "\n",
    "pgm.figure.savefig(\"./ae_plate.pdf\")\n",
    "#pgm.figure.savefig(\"exoplanets.png\", dpi=150)\n"
   ]
  },
  {
   "cell_type": "code",
   "execution_count": null,
   "metadata": {},
   "outputs": [],
   "source": []
  },
  {
   "cell_type": "code",
   "execution_count": null,
   "metadata": {},
   "outputs": [],
   "source": []
  },
  {
   "cell_type": "code",
   "execution_count": null,
   "metadata": {},
   "outputs": [],
   "source": []
  },
  {
   "cell_type": "code",
   "execution_count": null,
   "metadata": {},
   "outputs": [],
   "source": []
  },
  {
   "cell_type": "code",
   "execution_count": 8,
   "metadata": {},
   "outputs": [
    {
     "data": {
      "text/plain": [
       "<matplotlib.axes._axes.Axes at 0x7f5c77d0a3d0>"
      ]
     },
     "execution_count": 8,
     "metadata": {},
     "output_type": "execute_result"
    },
    {
     "data": {
      "image/png": "[encoded data removed]",
      "text/plain": [
       "<Figure size 204.094x198.425 with 1 Axes>"
      ]
     },
     "metadata": {},
     "output_type": "display_data"
    }
   ],
   "source": [
    "from matplotlib import rc\n",
    "%matplotlib inline\n",
    "import daft\n",
    "\n",
    "rc(\"font\", family=\"serif\", size=12)\n",
    "rc(\"text\", usetex=True)\n",
    "\n",
    "\n",
    "\n",
    "# Colors.\n",
    "p_color = {\"ec\": \"#46a546\"}\n",
    "s_color = {\"ec\": \"#f89406\"}\n",
    "\n",
    "pgm = daft.PGM([3.6, 3.5], origin=[0.7, 0])\n",
    "\n",
    "n = daft.Node(\"phi\", r\"$\\phi$\", 1, 3, plot_params=s_color)\n",
    "\n",
    "n.va = \"baseline\"\n",
    "pgm.add_node(n)\n",
    "pgm.add_node(daft.Node(\"speckle_coeff\", r\"$z_i$\", 2, 3, plot_params=s_color))\n",
    "pgm.add_node(daft.Node(\"speckle_img\", r\"$x_i$\", 2, 2, plot_params=s_color))\n",
    "\n",
    "pgm.add_node(daft.Node(\"spec\", r\"$s$\", 4, 3, plot_params=p_color))\n",
    "pgm.add_node(daft.Node(\"shape\", r\"$g$\", 4, 2, plot_params=p_color))\n",
    "pgm.add_node(daft.Node(\"planet_pos\", r\"$\\mu_i$\", 3, 3, plot_params=p_color))\n",
    "pgm.add_node(daft.Node(\"planet_img\", r\"$p_i$\", 3, 2, plot_params=p_color))\n",
    "\n",
    "pgm.add_node(daft.Node(\"pixels\", r\"$y_i ^j$\", 2.5, 1, observed=True))\n",
    "\n",
    "# Edges.\n",
    "pgm.add_edge(\"phi\", \"speckle_coeff\")\n",
    "pgm.add_edge(\"speckle_coeff\", \"speckle_img\")\n",
    "pgm.add_edge(\"speckle_img\", \"pixels\")\n",
    "\n",
    "pgm.add_edge(\"spec\", \"planet_img\")\n",
    "pgm.add_edge(\"shape\", \"planet_img\")\n",
    "pgm.add_edge(\"planet_pos\", \"planet_img\")\n",
    "pgm.add_edge(\"planet_img\", \"pixels\")\n",
    "\n",
    "# And a plate.\n",
    "pgm.add_plate(daft.Plate([1.5, 0.2, 2, 3.2], label=r\"exposure $i$\",\n",
    "    shift=-0.1))\n",
    "pgm.add_plate(daft.Plate([2, 0.5, 1, 1], label=r\"pixel $j$\",\n",
    "    shift=-0.1))\n",
    "\n",
    "# Render and save.\n",
    "pgm.render()\n",
    "\n",
    "#pgm.figure.savefig(\"exoplanets.pdf\")\n",
    "#pgm.figure.savefig(\"exoplanets.png\", dpi=150)"
   ]
  },
  {
   "cell_type": "code",
   "execution_count": null,
   "metadata": {},
   "outputs": [],
   "source": [
    "1"
   ]
  }
 ],
 "metadata": {
  "kernelspec": {
   "display_name": "Python 2",
   "language": "python",
   "name": "python2"
  },
  "language_info": {
   "codemirror_mode": {
    "name": "ipython",
    "version": 2
   },
   "file_extension": ".py",
   "mimetype": "text/x-python",
   "name": "python",
   "nbconvert_exporter": "python",
   "pygments_lexer": "ipython2",
   "version": "2.7.14"
  }
 },
 "nbformat": 4,
 "nbformat_minor": 2
}
